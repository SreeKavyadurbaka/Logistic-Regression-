{
 "cells": [
  {
   "cell_type": "markdown",
   "id": "5411c8d5",
   "metadata": {},
   "source": [
    "# Introduction \n",
    "\n",
    "## What is logistic Regression? \n",
    "\n",
    "A logistic regression is a classification algorithm. Mostly used when the response variable is binary. However, multiple response variables is also possible. \n",
    "\n",
    "1. Should the response variable be a number or can be a text also? \n",
    "\n",
    "It should be a number. \n",
    "\n",
    "2. What is the output of logistic regression? - Number or probabilities? \n",
    "\n",
    "Probabilities. \n",
    "\n",
    "3. Is it a supervised or unsupervised learning alogithm? \n",
    "\n",
    "It is a supervised machine learning algorithm as it has labelled response vaiable. And a response variable is present. \n",
    "\n",
    "4. Why linear regression cannot be used here? \n",
    "\n",
    "The output of a linear regression model falls on a real line. It is not bound between 0-1 as probabilities should be bound. Here, we are trying to figure out the probability of 1. So can't be used. \n",
    "\n",
    "5. Logistic Regression is an improvisation over linear regression. Instead of a straight line, this is a sigmoid function. It's an s-curve. As we are implyfying a real life situation to a sigmoid curve, we are introducing bias in the model.\n",
    "\n",
    "Ideally, it should be a step function. "
   ]
  },
  {
   "cell_type": "markdown",
   "id": "ee85bdfb",
   "metadata": {},
   "source": [
    "Probability of success is given by this equation :\n"
   ]
  },
  {
   "cell_type": "markdown",
   "id": "653010a0",
   "metadata": {},
   "source": [
    "**Log of odds:**\n",
    "\n",
    "odds means the probability of success by prbability of failure. \n",
    "\n",
    "so odds = (p/1-p)\n",
    "\n",
    "by substituting it in the  equation, we get that log of odds is a linear function. \n",
    "\n",
    "**Questions**\n",
    "\n",
    "Can odds be >1?\n",
    "\n",
    "Can odds be negative? Why? \n",
    "\n",
    "Can odds be 0? why? \n",
    "\n",
    "can odds be 1? why? \n"
   ]
  },
  {
   "cell_type": "markdown",
   "id": "27a86062",
   "metadata": {},
   "source": [
    "**Note**:\n",
    "When we get the probability as an output, we set a threshold : Always buisness sets the threshold. "
   ]
  },
  {
   "cell_type": "markdown",
   "id": "f6546806",
   "metadata": {},
   "source": [
    "# Binary Logistic Regression "
   ]
  },
  {
   "cell_type": "markdown",
   "id": "af23bc20",
   "metadata": {},
   "source": [
    "The response variable is a binary variable. We use MLE to estimate the parameters. \n",
    "\n",
    "We can't use OLS for that.\n",
    "\n",
    "why? \n",
    "\n",
    "The parameters of a logistic regression model can be estimated by the probabilistic framework called maximum likelihood estimation. Under this framework, a probability distribution for the target variable (class label) must be assumed and then a likelihood function defined that calculates the probability of observing the outcome given the input data and the model.\n",
    "\n",
    "Let's understand MLE better. "
   ]
  },
  {
   "cell_type": "markdown",
   "id": "10a3ba46",
   "metadata": {},
   "source": [
    "Link to blog: \n",
    "\n"
   ]
  },
  {
   "cell_type": "code",
   "execution_count": 19,
   "id": "7e089b62",
   "metadata": {},
   "outputs": [],
   "source": [
    "import pandas as pd\n",
    "import numpy as np\n",
    "from sklearn.model_selection import train_test_split\n",
    "from sklearn.linear_model import LogisticRegression\n",
    "from sklearn import metrics\n",
    "import matplotlib.pyplot as plt\n",
    "from sklearn.metrics import classification_report, confusion_matrix"
   ]
  },
  {
   "cell_type": "code",
   "execution_count": 2,
   "id": "c94b5a96",
   "metadata": {},
   "outputs": [],
   "source": [
    "#import dataset from CSV file on Github\n",
    "url = \"https://raw.githubusercontent.com/Statology/Python-Guides/main/default.csv\"\n",
    "data = pd.read_csv(url)"
   ]
  },
  {
   "cell_type": "code",
   "execution_count": 3,
   "id": "6c69b45a",
   "metadata": {},
   "outputs": [
    {
     "data": {
      "text/html": [
       "<div>\n",
       "<style scoped>\n",
       "    .dataframe tbody tr th:only-of-type {\n",
       "        vertical-align: middle;\n",
       "    }\n",
       "\n",
       "    .dataframe tbody tr th {\n",
       "        vertical-align: top;\n",
       "    }\n",
       "\n",
       "    .dataframe thead th {\n",
       "        text-align: right;\n",
       "    }\n",
       "</style>\n",
       "<table border=\"1\" class=\"dataframe\">\n",
       "  <thead>\n",
       "    <tr style=\"text-align: right;\">\n",
       "      <th></th>\n",
       "      <th>default</th>\n",
       "      <th>student</th>\n",
       "      <th>balance</th>\n",
       "      <th>income</th>\n",
       "    </tr>\n",
       "  </thead>\n",
       "  <tbody>\n",
       "    <tr>\n",
       "      <th>0</th>\n",
       "      <td>0</td>\n",
       "      <td>0</td>\n",
       "      <td>729.526495</td>\n",
       "      <td>44361.625074</td>\n",
       "    </tr>\n",
       "    <tr>\n",
       "      <th>1</th>\n",
       "      <td>0</td>\n",
       "      <td>1</td>\n",
       "      <td>817.180407</td>\n",
       "      <td>12106.134700</td>\n",
       "    </tr>\n",
       "    <tr>\n",
       "      <th>2</th>\n",
       "      <td>0</td>\n",
       "      <td>0</td>\n",
       "      <td>1073.549164</td>\n",
       "      <td>31767.138947</td>\n",
       "    </tr>\n",
       "    <tr>\n",
       "      <th>3</th>\n",
       "      <td>0</td>\n",
       "      <td>0</td>\n",
       "      <td>529.250605</td>\n",
       "      <td>35704.493935</td>\n",
       "    </tr>\n",
       "    <tr>\n",
       "      <th>4</th>\n",
       "      <td>0</td>\n",
       "      <td>0</td>\n",
       "      <td>785.655883</td>\n",
       "      <td>38463.495879</td>\n",
       "    </tr>\n",
       "  </tbody>\n",
       "</table>\n",
       "</div>"
      ],
      "text/plain": [
       "   default  student      balance        income\n",
       "0        0        0   729.526495  44361.625074\n",
       "1        0        1   817.180407  12106.134700\n",
       "2        0        0  1073.549164  31767.138947\n",
       "3        0        0   529.250605  35704.493935\n",
       "4        0        0   785.655883  38463.495879"
      ]
     },
     "execution_count": 3,
     "metadata": {},
     "output_type": "execute_result"
    }
   ],
   "source": [
    "data.head()"
   ]
  },
  {
   "cell_type": "code",
   "execution_count": 4,
   "id": "0cad911b",
   "metadata": {},
   "outputs": [
    {
     "data": {
      "text/plain": [
       "10000"
      ]
     },
     "execution_count": 4,
     "metadata": {},
     "output_type": "execute_result"
    }
   ],
   "source": [
    "len(data.index) #10k ROWS In the data set. \n",
    "#Default is our target variable. "
   ]
  },
  {
   "cell_type": "markdown",
   "id": "bff97e49",
   "metadata": {},
   "source": [
    "We will use student status, bank balance, and income to build a logistic regression model that predicts the probability that a given individual defaults."
   ]
  },
  {
   "cell_type": "code",
   "execution_count": 5,
   "id": "053361e3",
   "metadata": {},
   "outputs": [],
   "source": [
    "#define the predictor variables and the response variable\n",
    "X = data[['student', 'balance', 'income']]\n",
    "y = data['default']"
   ]
  },
  {
   "cell_type": "code",
   "execution_count": 6,
   "id": "b258d8e9",
   "metadata": {},
   "outputs": [],
   "source": [
    "#split the dataset into training (70%) and testing (30%) sets\n",
    "X_train,X_test,y_train,y_test = train_test_split(X,y,test_size=0.3,random_state=0)"
   ]
  },
  {
   "cell_type": "code",
   "execution_count": 7,
   "id": "10f11c02",
   "metadata": {},
   "outputs": [],
   "source": [
    "#instantiate the model\n",
    "log_regression = LogisticRegression()"
   ]
  },
  {
   "cell_type": "code",
   "execution_count": 8,
   "id": "d7cbcbb3",
   "metadata": {},
   "outputs": [
    {
     "data": {
      "text/plain": [
       "LogisticRegression()"
      ]
     },
     "execution_count": 8,
     "metadata": {},
     "output_type": "execute_result"
    }
   ],
   "source": [
    "#fit the model using the training data\n",
    "log_regression.fit(X_train,y_train)"
   ]
  },
  {
   "cell_type": "code",
   "execution_count": 15,
   "id": "643264b1",
   "metadata": {},
   "outputs": [],
   "source": [
    "#use model to make predictions on test data\n",
    "y_pred = log_regression.predict(X_test)"
   ]
  },
  {
   "cell_type": "code",
   "execution_count": 16,
   "id": "4e2dd189",
   "metadata": {},
   "outputs": [
    {
     "data": {
      "text/plain": [
       "array([0, 0, 0, ..., 0, 0, 0], dtype=int64)"
      ]
     },
     "execution_count": 16,
     "metadata": {},
     "output_type": "execute_result"
    }
   ],
   "source": [
    "y_pred # These are the classifications "
   ]
  },
  {
   "cell_type": "code",
   "execution_count": 10,
   "id": "9a3515dd",
   "metadata": {},
   "outputs": [
    {
     "data": {
      "text/plain": [
       "array([[2870,   17],\n",
       "       [  93,   20]], dtype=int64)"
      ]
     },
     "execution_count": 10,
     "metadata": {},
     "output_type": "execute_result"
    }
   ],
   "source": []
  },
  {
   "cell_type": "code",
   "execution_count": 17,
   "id": "f30a2ea6",
   "metadata": {},
   "outputs": [
    {
     "data": {
      "text/plain": [
       "array([[9.99810674e-01, 1.89326075e-04],\n",
       "       [9.99857231e-01, 1.42768942e-04],\n",
       "       [9.94284183e-01, 5.71581735e-03],\n",
       "       ...,\n",
       "       [8.46201821e-01, 1.53798179e-01],\n",
       "       [9.98895042e-01, 1.10495803e-03],\n",
       "       [9.99314648e-01, 6.85351703e-04]])"
      ]
     },
     "execution_count": 17,
     "metadata": {},
     "output_type": "execute_result"
    }
   ],
   "source": [
    "log_regression.predict_proba(X_test)"
   ]
  },
  {
   "cell_type": "markdown",
   "id": "d5cec1ac",
   "metadata": {},
   "source": [
    "In the matrix above, each row corresponds to a single observation. The first column is the probability of the predicted output being zero, that is 1 - 𝑝(𝑥). The second column is the probability that the output is one, or 𝑝(𝑥)."
   ]
  },
  {
   "cell_type": "code",
   "execution_count": 22,
   "id": "daee64b9",
   "metadata": {},
   "outputs": [
    {
     "data": {
      "image/png": "[encoded data removed]",
      "text/plain": [
       "<Figure size 576x576 with 1 Axes>"
      ]
     },
     "metadata": {
      "needs_background": "light"
     },
     "output_type": "display_data"
    }
   ],
   "source": [
    "cm = confusion_matrix(y_test, y_pred)\n",
    "\n",
    "fig, ax = plt.subplots(figsize=(8, 8))\n",
    "ax.imshow(cm)\n",
    "ax.grid(False)\n",
    "ax.xaxis.set(ticks=(0, 1), ticklabels=('Predicted 0s', 'Predicted 1s'))\n",
    "ax.yaxis.set(ticks=(0, 1), ticklabels=('Actual 0s', 'Actual 1s'))\n",
    "ax.set_ylim(1.5, -0.5)\n",
    "for i in range(2):\n",
    "    for j in range(2):\n",
    "        ax.text(j, i, cm[i, j], ha='center', va='center', color='red')\n",
    "plt.show()"
   ]
  },
  {
   "cell_type": "markdown",
   "id": "f300d675",
   "metadata": {},
   "source": [
    "Source: realpython.com"
   ]
  },
  {
   "cell_type": "markdown",
   "id": "7129e4f5",
   "metadata": {},
   "source": [
    "From the confusion matrix we can see that:\n",
    "\n",
    "#True positive predictions: 2870\n",
    "\n",
    "#True negative predictions: 20\n",
    "\n",
    "#False positive predictions: 93\n",
    "\n",
    "#False negative predictions: 17\n",
    "\n",
    "##### Actuals -Left \n",
    "\n",
    "##### Predicted - Top "
   ]
  },
  {
   "cell_type": "code",
   "execution_count": 23,
   "id": "092238d8",
   "metadata": {},
   "outputs": [
    {
     "name": "stdout",
     "output_type": "stream",
     "text": [
      "              precision    recall  f1-score   support\n",
      "\n",
      "           0       0.97      0.99      0.98      2887\n",
      "           1       0.54      0.18      0.27       113\n",
      "\n",
      "    accuracy                           0.96      3000\n",
      "   macro avg       0.75      0.59      0.62      3000\n",
      "weighted avg       0.95      0.96      0.95      3000\n",
      "\n"
     ]
    }
   ],
   "source": [
    "print(classification_report(y_test, y_pred)) # Gives a more comprehensive report "
   ]
  },
  {
   "cell_type": "code",
   "execution_count": 11,
   "id": "1c06327a",
   "metadata": {},
   "outputs": [
    {
     "name": "stdout",
     "output_type": "stream",
     "text": [
      "Accuracy: 0.9633333333333334\n"
     ]
    }
   ],
   "source": [
    "print(\"Accuracy:\",metrics.accuracy_score(y_test, y_pred))"
   ]
  },
  {
   "cell_type": "code",
   "execution_count": 12,
   "id": "02ab08a6",
   "metadata": {},
   "outputs": [
    {
     "data": {
      "image/png": "[encoded data removed]",
      "text/plain": [
       "<Figure size 432x288 with 1 Axes>"
      ]
     },
     "metadata": {
      "needs_background": "light"
     },
     "output_type": "display_data"
    }
   ],
   "source": [
    "#define metrics\n",
    "y_pred_proba = log_regression.predict_proba(X_test)[::,1] # This gives the probabilities of our target variable : 1 \n",
    "fpr, tpr, _ = metrics.roc_curve(y_test,  y_pred_proba)\n",
    "auc = metrics.roc_auc_score(y_test, y_pred_proba)\n",
    "\n",
    "#create ROC curve\n",
    "plt.plot(fpr,tpr,label=\"AUC=\"+str(auc)) #For representing area under the curve. \n",
    "plt.legend(loc=4)\n",
    "plt.show()"
   ]
  },
  {
   "cell_type": "code",
   "execution_count": 13,
   "id": "e21bf494",
   "metadata": {},
   "outputs": [
    {
     "data": {
      "text/plain": [
       "array([[9.99810674e-01, 1.89326075e-04],\n",
       "       [9.99857231e-01, 1.42768942e-04],\n",
       "       [9.94284183e-01, 5.71581735e-03],\n",
       "       ...,\n",
       "       [8.46201821e-01, 1.53798179e-01],\n",
       "       [9.98895042e-01, 1.10495803e-03],\n",
       "       [9.99314648e-01, 6.85351703e-04]])"
      ]
     },
     "execution_count": 13,
     "metadata": {},
     "output_type": "execute_result"
    }
   ],
   "source": [
    "log_regression.predict_proba(X_test)"
   ]
  },
  {
   "cell_type": "markdown",
   "id": "2202ed1e",
   "metadata": {},
   "source": [
    "##### Source : https://www.statology.org/logistic-regression-python/"
   ]
  },
  {
   "cell_type": "markdown",
   "id": "f3716a96",
   "metadata": {},
   "source": [
    "# Stats Models - More useful  "
   ]
  },
  {
   "cell_type": "code",
   "execution_count": 25,
   "id": "46d89c98",
   "metadata": {},
   "outputs": [],
   "source": [
    "#import numpy as np\n",
    "#import statsmodels.api as sm"
   ]
  },
  {
   "cell_type": "code",
   "execution_count": null,
   "id": "4d2bcc47",
   "metadata": {},
   "outputs": [],
   "source": [
    "#model = sm.Logit(y, x)\n",
    "#result = model.fit(method='newton')\n",
    "#result.params\n",
    "#result.params\n",
    "#.summary() and .summary2() get output data that you might find useful in some circumstances"
   ]
  }
 ],
 "metadata": {
  "kernelspec": {
   "display_name": "Python 3 (ipykernel)",
   "language": "python",
   "name": "python3"
  },
  "language_info": {
   "codemirror_mode": {
    "name": "ipython",
    "version": 3
   },
   "file_extension": ".py",
   "mimetype": "text/x-python",
   "name": "python",
   "nbconvert_exporter": "python",
   "pygments_lexer": "ipython3",
   "version": "3.9.7"
  }
 },
 "nbformat": 4,
 "nbformat_minor": 5
}
